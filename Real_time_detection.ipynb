{
 "cells": [
  {
   "cell_type": "code",
   "execution_count": null,
   "id": "4f1f62de",
   "metadata": {},
   "outputs": [],
   "source": [
    "#Import Libraries\n",
    "import cv2\n",
    "from ultralytics import YOLO"
   ]
  },
  {
   "cell_type": "code",
   "execution_count": null,
   "id": "b463a771",
   "metadata": {},
   "outputs": [],
   "source": [
    "#Filepath of the trained model\n",
    "model_path = 'models\\yolov11_screwtype_trained_V2.pt'\n",
    "\n",
    "# Load the trained model for real-time detection\n",
    "model = YOLO(model_path)\n",
    "\n",
    "# Get class names from the model\n",
    "class_names = model.names"
   ]
  },
  {
   "cell_type": "code",
   "execution_count": null,
   "id": "89afc761",
   "metadata": {},
   "outputs": [],
   "source": [
    "# Open the webcam\n",
    "cap = cv2.VideoCapture(0)\n",
    "\n",
    "while True:\n",
    "    ret, frame = cap.read()\n",
    "    if not ret:\n",
    "        break\n",
    "\n",
    "    # Inference\n",
    "    results = model(frame)\n",
    "\n",
    "    max_conf = 0.0  # Track max confidence in this frame\n",
    "    annotated_frame = frame.copy()\n",
    "\n",
    "    for box in results[0].boxes:\n",
    "        conf = box.conf[0].item()\n",
    "        if conf >= 0.5:\n",
    "            max_conf = max(max_conf, conf)\n",
    "\n",
    "            x1, y1, x2, y2 = map(int, box.xyxy[0])\n",
    "            cls = int(box.cls[0].item())\n",
    "            label = f\"{model.names[cls]}: {conf:.2f}\"\n",
    "\n",
    "            # Draw bounding box and label\n",
    "            cv2.rectangle(annotated_frame, (x1, y1), (x2, y2), (0, 255, 0), 2)\n",
    "            cv2.putText(annotated_frame, label, (x1, y1 - 10),\n",
    "                        cv2.FONT_HERSHEY_SIMPLEX, 0.5, (0, 255, 0), 2)\n",
    "\n",
    "    # Show max confidence on frame\n",
    "    cv2.putText(annotated_frame, f\"Max Conf: {max_conf:.2f}\", (10, 30),\n",
    "                cv2.FONT_HERSHEY_SIMPLEX, 0.7, (255, 0, 0), 2)\n",
    "\n",
    "    cv2.imshow('YOLOv11 Real-Time Detection', annotated_frame)\n",
    "\n",
    "    # Print it to console too (optional)\n",
    "    print(f\"Max confidence this frame: {max_conf:.4f}\")\n",
    "\n",
    "    if cv2.waitKey(1) & 0xFF == ord('q'):\n",
    "        break\n",
    "\n",
    "cap.release()\n",
    "cv2.destroyAllWindows()"
   ]
  }
 ],
 "metadata": {
  "kernelspec": {
   "display_name": "Python 3",
   "language": "python",
   "name": "python3"
  },
  "language_info": {
   "codemirror_mode": {
    "name": "ipython",
    "version": 3
   },
   "file_extension": ".py",
   "mimetype": "text/x-python",
   "name": "python",
   "nbconvert_exporter": "python",
   "pygments_lexer": "ipython3",
   "version": "3.12.6"
  }
 },
 "nbformat": 4,
 "nbformat_minor": 5
}

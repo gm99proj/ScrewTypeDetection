{
 "cells": [
  {
   "cell_type": "code",
   "execution_count": null,
   "id": "759f81ff",
   "metadata": {},
   "outputs": [],
   "source": [
    "#Import Libraries\n",
    "from ultralytics import YOLO\n",
    "import os\n",
    "import random\n",
    "import cv2"
   ]
  },
  {
   "cell_type": "code",
   "execution_count": null,
   "id": "81e6a321",
   "metadata": {},
   "outputs": [],
   "source": [
    "# Load a pretrained YOLOv5 model\n",
    "model = YOLO('yolo11n.pt')"
   ]
  },
  {
   "cell_type": "code",
   "execution_count": null,
   "id": "6fd6f907",
   "metadata": {},
   "outputs": [],
   "source": [
    "# Train the model\n",
    "results = model.train(\n",
    "    data= \"dataset/data.yaml\",  # Update with your dataset path\n",
    "    epochs=100,  # Number of training epochs\n",
    "    imgsz=640,  # Image size\n",
    "    device='0', # Use GPU 0 for training (or 'cpu' for CPU)\n",
    "    patience=30, # Early stopping patience\n",
    "    project='training_results/train', # Save results to this directory\n",
    "    name='exp', # Save results to this directory\n",
    "    exist_ok=True # Overwrite existing experiment directory if it exists\n",
    ")"
   ]
  },
  {
   "cell_type": "code",
   "execution_count": null,
   "id": "e2c18dad",
   "metadata": {},
   "outputs": [],
   "source": [
    "# Evaluate the model on validation set\n",
    "metrics = model.val()  "
   ]
  },
  {
   "cell_type": "code",
   "execution_count": null,
   "id": "8c83d8e6",
   "metadata": {},
   "outputs": [],
   "source": [
    "# Select a random test image from the test folder\n",
    "test_image_folder = \"dataset/test/images\"  # Update with your test image folder path\n",
    "test_images = [f for f in os.listdir(test_image_folder) if f.endswith(('.jpg', '.png', '.jpeg'))]\n",
    "\n",
    "random_image = random.choice(test_images)  # Select a random image\n",
    "random_image_path = os.path.join(test_image_folder, random_image) # Get the full path of the random image\n",
    "\n",
    "# Path to save results\n",
    "results_folder = \"results\"\n",
    "os.makedirs(results_folder, exist_ok=True)\n",
    "\n",
    "# Perform inference on a random test image\n",
    "print(f\"Running inference on: {random_image_path}\")\n",
    "\n",
    "\n",
    "# Run inference\n",
    "results = model(random_image_path) \n",
    "\n",
    "# Get rendered image (with boxes and labels)\n",
    "rendered_img = results[0].plot()  # Returns an array (RGB)\n",
    "\n",
    "# Convert RGB to BGR for OpenCV saving\n",
    "rendered_img_bgr = cv2.cvtColor(rendered_img, cv2.COLOR_RGB2BGR)\n",
    "\n",
    "# Save to desired path\n",
    "save_path = os.path.join(results_folder, f\"result_{random_image}\")\n",
    "cv2.imwrite(save_path, rendered_img_bgr)\n",
    "print(f\"Inference result saved to: {save_path}\")\n"
   ]
  },
  {
   "cell_type": "code",
   "execution_count": null,
   "id": "c81b6177",
   "metadata": {},
   "outputs": [],
   "source": [
    "# Save the model in the current directory\n",
    "os.makedirs('trained_models', exist_ok=True)\n",
    "model.save('trained_models/yolov11_screwtype_trained_V2.pt') # Save the trained models"
   ]
  }
 ],
 "metadata": {
  "kernelspec": {
   "display_name": "Python 3",
   "language": "python",
   "name": "python3"
  },
  "language_info": {
   "codemirror_mode": {
    "name": "ipython",
    "version": 3
   },
   "file_extension": ".py",
   "mimetype": "text/x-python",
   "name": "python",
   "nbconvert_exporter": "python",
   "pygments_lexer": "ipython3",
   "version": "3.12.6"
  }
 },
 "nbformat": 4,
 "nbformat_minor": 5
}
